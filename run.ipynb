{
 "cells": [
  {
   "cell_type": "code",
   "execution_count": 10,
   "metadata": {},
   "outputs": [],
   "source": [
    "docx_path = 'doc/VPA-DD_Nigeria CPA6_ver2_NeEr_AnUe_15102021.docx'"
   ]
  },
  {
   "cell_type": "code",
   "execution_count": 12,
   "metadata": {},
   "outputs": [],
   "source": [
    "import docx\n",
    "\n",
    "def extract_docx(path: str) -> str:\n",
    "    doc = docx.Document(path)\n",
    "    full_text = []\n",
    "    for para in doc.paragraphs:\n",
    "        full_text.append(para.text)\n",
    "    return '\\n'.join(full_text)\n",
    "\n",
    "text = extract_docx(docx_path)\n",
    "with open('test.txt', 'w') as f:\n",
    "    f.write(text)"
   ]
  },
  {
   "cell_type": "code",
   "execution_count": 4,
   "metadata": {},
   "outputs": [],
   "source": [
    "import random\n",
    "\n",
    "# Set the size of the file in bytes\n",
    "size = 1073741824  # 100 MB\n",
    "\n",
    "# Open a new file in write mode\n",
    "with open('1gb.txt', 'w') as f:\n",
    "  # Write a large chunk of random letters to the file at once\n",
    "  f.write(''.join(random.choices('abcdefghijklmnopqrstuvwxyz', k=size)))\n",
    "\n",
    "print('Done!')"
   ]
  },
  {
   "cell_type": "code",
   "execution_count": 1,
   "metadata": {},
   "outputs": [],
   "source": [
    "import os\n",
    "\n",
    "# Open the file in read mode\n",
    "with open(\"100mb.txt\", \"r\") as file:\n",
    "    # Read the contents of the file\n",
    "    contents = file.read()\n",
    "\n",
    "# Duplicate the contents 10 times\n",
    "contents = contents * 10\n",
    "\n",
    "# Open the file in write mode\n",
    "with open(\"text.txt\", \"w\") as file:\n",
    "    # Write the duplicated contents to the file\n",
    "    file.write(contents)"
   ]
  },
  {
   "cell_type": "code",
   "execution_count": 2,
   "metadata": {},
   "outputs": [
    {
     "name": "stdout",
     "output_type": "stream",
     "text": [
      "The size of text.txt is 1000.00 MB.\n"
     ]
    }
   ],
   "source": [
    "import os\n",
    "\n",
    "# Get the size of the file in bytes\n",
    "filename = 'text.txt'\n",
    "filesize = os.path.getsize(filename)\n",
    "\n",
    "# Convert the size to a human-readable format (e.g. 10 MB)\n",
    "if filesize < 1024:\n",
    "  filesize_str = f'{filesize} bytes'\n",
    "elif filesize < 1048576:\n",
    "  filesize_str = f'{filesize / 1024:.2f} KB'\n",
    "else:\n",
    "  filesize_str = f'{filesize / 1048576:.2f} MB'\n",
    "\n",
    "# Print the size of the file\n",
    "print(f'The size of {filename} is {filesize_str}.')"
   ]
  },
  {
   "cell_type": "code",
   "execution_count": 20,
   "metadata": {},
   "outputs": [],
   "source": [
    "import pdfplumber"
   ]
  },
  {
   "cell_type": "code",
   "execution_count": 41,
   "metadata": {},
   "outputs": [],
   "source": [
    "def is_pdf_full_image(pdf_path):\n",
    "    # Open the PDF file using PyPDF2\n",
    "    pdf = pdfplumber.open(pdf_path)\n",
    "    \n",
    "    # print(len(pdf.pages))\n",
    "    for p in pdf.pages:\n",
    "        if len(p.extract_text().strip()) != 0:\n",
    "            return False\n",
    "            "
   ]
  },
  {
   "cell_type": "code",
   "execution_count": 42,
   "metadata": {},
   "outputs": [
    {
     "name": "stdout",
     "output_type": "stream",
     "text": [
      "True\n"
     ]
    }
   ],
   "source": [
    "print(is_pdf_full_image('pdf/Midshore_Flare_Issuance_Deed_4-27-15.pdf'))"
   ]
  },
  {
   "cell_type": "code",
   "execution_count": null,
   "metadata": {},
   "outputs": [],
   "source": []
  },
  {
   "cell_type": "code",
   "execution_count": 48,
   "metadata": {},
   "outputs": [
    {
     "name": "stdout",
     "output_type": "stream",
     "text": [
      "<class 'PIL.PpmImagePlugin.PpmImageFile'>\n",
      "<class 'PIL.PpmImagePlugin.PpmImageFile'>\n",
      "<class 'PIL.PpmImagePlugin.PpmImageFile'>\n",
      "<class 'PIL.PpmImagePlugin.PpmImageFile'>\n",
      "<class 'PIL.PpmImagePlugin.PpmImageFile'>\n"
     ]
    }
   ],
   "source": [
    "# import module\n",
    "from pdf2image import convert_from_path\n",
    "from pytesseract import pytesseract\n",
    "\n",
    "\n",
    "\n",
    "def extract_text_from_img(img):\n",
    "    path_to_tesseract = \"/usr/bin/tesseract\"\n",
    "\n",
    "    #Point tessaract_cmd to tessaract.exe\n",
    "    pytesseract.tesseract_cmd = path_to_tesseract\n",
    "\n",
    "    #Open image with PIL\n",
    "    # img = Image.open(path_to_image)\n",
    "\n",
    "    #Extract text from image\n",
    "    text = pytesseract.image_to_string(img)\n",
    "\n",
    "    # print(text)\n",
    "    with open(\"text.txt\", \"wa\") as text_file:\n",
    "        text_file.write(text)\n",
    " \n",
    "# Store Pdf with convert_from_path function\n",
    "images = convert_from_path('pdf/Midshore_Flare_Issuance_Deed_4-27-15.pdf')\n",
    " \n",
    "for i in range(len(images)):\n",
    "    print(type(images[i]))\n",
    "    # images[i].save('img/page'+ str(i) +'.jpg', 'JPEG')\n",
    "    extract_text_from_img()"
   ]
  },
  {
   "cell_type": "code",
   "execution_count": null,
   "metadata": {},
   "outputs": [],
   "source": []
  }
 ],
 "metadata": {
  "kernelspec": {
   "display_name": "dev",
   "language": "python",
   "name": "python3"
  },
  "language_info": {
   "codemirror_mode": {
    "name": "ipython",
    "version": 3
   },
   "file_extension": ".py",
   "mimetype": "text/x-python",
   "name": "python",
   "nbconvert_exporter": "python",
   "pygments_lexer": "ipython3",
   "version": "3.10.8 (main, Nov 24 2022, 14:13:03) [GCC 11.2.0]"
  },
  "orig_nbformat": 4,
  "vscode": {
   "interpreter": {
    "hash": "5961b5090689ba98c4d1cc4f4f6737cfab2c392d377ba1a1bfd72151becb7ec1"
   }
  }
 },
 "nbformat": 4,
 "nbformat_minor": 2
}

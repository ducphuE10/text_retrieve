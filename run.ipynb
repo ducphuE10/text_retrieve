{
 "cells": [
  {
   "cell_type": "code",
   "execution_count": 2,
   "metadata": {},
   "outputs": [],
   "source": [
    "pdf_path = 'pdf/Midshore Verra Registry Communication Agreement - Blue Source LLC_signed.pdf'"
   ]
  },
  {
   "cell_type": "code",
   "execution_count": 3,
   "metadata": {},
   "outputs": [
    {
     "name": "stdout",
     "output_type": "stream",
     "text": [
      "Text outside the tables:\n",
      "1\n"
     ]
    }
   ],
   "source": [
    "import pdfplumber\n",
    "\n",
    "def curves_to_edges(cs):\n",
    "    \"\"\"See https://github.com/jsvine/pdfplumber/issues/127\"\"\"\n",
    "    edges = []\n",
    "    for c in cs:\n",
    "        edges += pdfplumber.utils.rect_to_edges(c)\n",
    "    return edges\n",
    "\n",
    "# Import the PDF.\n",
    "pdf = pdfplumber.open(pdf_path)\n",
    "\n",
    "# Load the first page.\n",
    "for i in range(len(pdf.pages)):\n",
    "    p = pdf.pages[i]\n",
    "# Table settings.\n",
    "    ts = {\n",
    "        \"vertical_strategy\": \"explicit\",\n",
    "        \"horizontal_strategy\": \"explicit\",\n",
    "        \"explicit_vertical_lines\": curves_to_edges(p.curves + p.edges),\n",
    "        \"explicit_horizontal_lines\": curves_to_edges(p.curves + p.edges),\n",
    "        \"intersection_y_tolerance\": 10,\n",
    "    }\n",
    "\n",
    "    # Get the bounding boxes of the tables on the page.\n",
    "    try:\n",
    "        bboxes = [table.bbox for table in p.find_tables(table_settings=ts)]\n",
    "    except:\n",
    "        print(i)\n",
    "        break\n",
    "        \n",
    "    def not_within_bboxes(obj):\n",
    "        \"\"\"Check if the object is in any of the table's bbox.\"\"\"\n",
    "        def obj_in_bbox(_bbox):\n",
    "            \"\"\"See https://github.com/jsvine/pdfplumber/blob/stable/pdfplumber/table.py#L404\"\"\"\n",
    "            v_mid = (obj[\"top\"] + obj[\"bottom\"]) / 2\n",
    "            h_mid = (obj[\"x0\"] + obj[\"x1\"]) / 2\n",
    "            x0, top, x1, bottom = _bbox\n",
    "            return (h_mid >= x0) and (h_mid < x1) and (v_mid >= top) and (v_mid < bottom)\n",
    "        return not any(obj_in_bbox(__bbox) for __bbox in bboxes)\n",
    "\n",
    "    print(\"Text outside the tables:\")\n",
    "    # print(p.filter(not_within_bboxes).extract_text())"
   ]
  },
  {
   "cell_type": "code",
   "execution_count": null,
   "metadata": {},
   "outputs": [],
   "source": []
  }
 ],
 "metadata": {
  "kernelspec": {
   "display_name": "dev",
   "language": "python",
   "name": "python3"
  },
  "language_info": {
   "codemirror_mode": {
    "name": "ipython",
    "version": 3
   },
   "file_extension": ".py",
   "mimetype": "text/x-python",
   "name": "python",
   "nbconvert_exporter": "python",
   "pygments_lexer": "ipython3",
   "version": "3.10.8"
  },
  "orig_nbformat": 4,
  "vscode": {
   "interpreter": {
    "hash": "5961b5090689ba98c4d1cc4f4f6737cfab2c392d377ba1a1bfd72151becb7ec1"
   }
  }
 },
 "nbformat": 4,
 "nbformat_minor": 2
}
